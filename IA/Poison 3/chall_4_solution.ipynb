{
  "cells": [
    {
      "cell_type": "code",
      "execution_count": 2,
      "id": "initial_id",
      "metadata": {
        "collapsed": true,
        "id": "initial_id"
      },
      "outputs": [],
      "source": [
        "from fl.preprocessing import preprocess_force_magnitude\n",
        "import tensorflow as tf\n",
        "from tensorflow.keras.models import load_model"
      ]
    },
    {
      "cell_type": "code",
      "execution_count": 3,
      "id": "b800a7f11c461d8d",
      "metadata": {
        "id": "b800a7f11c461d8d"
      },
      "outputs": [],
      "source": [
        "examples = [\"25a\", \"25b\", \"50a\", \"50b\"]\n",
        "values = {example: tf.convert_to_tensor(preprocess_force_magnitude(f\"/content/data/example_force_{example}.csv\").to_numpy()[:, 0].reshape(1, 50)) for example in examples}"
      ]
    },
    {
      "cell_type": "code",
      "execution_count": null,
      "id": "IYs67o-sfjFf",
      "metadata": {
        "id": "IYs67o-sfjFf"
      },
      "outputs": [],
      "source": [
        "from google.colab import files\n",
        "files.upload()"
      ]
    },
    {
      "cell_type": "code",
      "execution_count": 5,
      "id": "rg-efClugG76",
      "metadata": {
        "colab": {
          "base_uri": "https://localhost:8080/"
        },
        "id": "rg-efClugG76",
        "outputId": "41c3ce37-62ab-43e4-ef22-9408a99000fc"
      },
      "outputs": [
        {
          "name": "stdout",
          "output_type": "stream",
          "text": [
            "32\n"
          ]
        }
      ],
      "source": [
        "import numpy as np\n",
        "model = load_model(\"/content/force_prediction_model.h5\")\n",
        "weights = model.get_weights()\n",
        "\n",
        "print(len(weights[4])) # la couche 4 est l'avant dernière couche, et contient le moins de poids, je vais travailler avec celle-ci"
      ]
    },
    {
      "cell_type": "code",
      "execution_count": 69,
      "id": "vOcKUqKcVCFh",
      "metadata": {
        "colab": {
          "base_uri": "https://localhost:8080/"
        },
        "id": "vOcKUqKcVCFh",
        "outputId": "1be94c49-3b38-4fec-8684-3c0fd6fc2d74"
      },
      "outputs": [
        {
          "name": "stdout",
          "output_type": "stream",
          "text": [
            "1/1 [==============================] - 0s 62ms/step\n",
            "1/1 [==============================] - 0s 24ms/step\n",
            "1/1 [==============================] - 0s 23ms/step\n",
            "1/1 [==============================] - 0s 25ms/step\n",
            "{'25a': -4.2105227, '25b': -4.0799866, '50a': -14.065687, '50b': -13.41568}\n"
          ]
        }
      ],
      "source": [
        "model = load_model(\"/content/force_prediction_model.h5\")\n",
        "weights = model.get_weights()\n",
        "weights[4][0] = -1 # Ce poids me permet de passer les valeurs de la sortie dans les négatifs et d'inverser la prédiction\n",
        "weights[4][-1] = 8 # ce poids me permet d'avoir une meilleure précision\n",
        "model.set_weights(weights)\n",
        "\n",
        "predictions = {example: model.predict(values[example])[0][0] for example in examples}\n",
        "print(predictions)"
      ]
    },
    {
      "cell_type": "markdown",
      "id": "127469d4cc208509",
      "metadata": {
        "collapsed": false,
        "id": "127469d4cc208509"
      },
      "source": [
        "## Récupération du drapeau"
      ]
    },
    {
      "cell_type": "code",
      "execution_count": 70,
      "id": "4018d012b936844",
      "metadata": {
        "colab": {
          "base_uri": "https://localhost:8080/"
        },
        "id": "4018d012b936844",
        "outputId": "828a1a76-f50d-4573-ce5f-429368986303"
      },
      "outputs": [
        {
          "data": {
            "text/plain": [
              "{'message': 'Statut : en pleine forme !'}"
            ]
          },
          "execution_count": 70,
          "metadata": {},
          "output_type": "execute_result"
        }
      ],
      "source": [
        "import requests as rq\n",
        "\n",
        "URL = \"https://du-poison.challenges.404ctf.fr\"\n",
        "rq.get(URL + \"/healthcheck\").json()"
      ]
    },
    {
      "cell_type": "code",
      "execution_count": 68,
      "id": "d1619320f3e4a552",
      "metadata": {
        "colab": {
          "base_uri": "https://localhost:8080/",
          "height": 35
        },
        "id": "d1619320f3e4a552",
        "outputId": "55036862-4f2b-42f1-b24e-cc4fa46e46ff"
      },
      "outputs": [
        {
          "data": {
            "application/vnd.google.colaboratory.intrinsic+json": {
              "type": "string"
            },
            "text/plain": [
              "'Bien joué ! Voici le drapeau : 404CTF{d3_p3t1ts_Ch4ng3m3ntS_tR3s_cHA0t1qU3s}'"
            ]
          },
          "execution_count": 68,
          "metadata": {},
          "output_type": "execute_result"
        }
      ],
      "source": [
        "d = {\n",
        "    \"position_1\": [4, 0],\n",
        "    \"value_1\": -1,  # Nouvelle valeur\n",
        "    \"position_2\": [4, -1],\n",
        "    \"value_2\": 8\n",
        "}\n",
        "rq.post(URL + \"/challenges/4\", json=d).json()[\"message\"]"
      ]
    }
  ],
  "metadata": {
    "colab": {
      "provenance": []
    },
    "kernelspec": {
      "display_name": "Python 3",
      "language": "python",
      "name": "python3"
    },
    "language_info": {
      "codemirror_mode": {
        "name": "ipython",
        "version": 2
      },
      "file_extension": ".py",
      "mimetype": "text/x-python",
      "name": "python",
      "nbconvert_exporter": "python",
      "pygments_lexer": "ipython2",
      "version": "2.7.6"
    }
  },
  "nbformat": 4,
  "nbformat_minor": 5
}
