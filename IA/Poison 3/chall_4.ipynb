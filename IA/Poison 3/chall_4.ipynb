{
 "cells": [
  {
   "cell_type": "code",
   "execution_count": null,
   "id": "initial_id",
   "metadata": {
    "collapsed": true
   },
   "outputs": [],
   "source": [
    "from fl.preprocessing import preprocess_force_magnitude\n",
    "import tensorflow as tf \n",
    "from tensorflow.keras.models import load_model\n",
    "\n",
    "model = load_model(\"../models/force_prediction_model.h5\")"
   ]
  },
  {
   "cell_type": "markdown",
   "id": "3bbcf256c2d625f1",
   "metadata": {
    "collapsed": false
   },
   "source": [
    "## ***>> Assurez-vous d'avoir tensorflow version 2.15***\n",
    "`pip install tensorflow==2.15`\n",
    "\n",
    "# Challenge 4 : Du poison [3/2]\n",
    "\n",
    "Pour ce challenge, **on sort du cadre de l'apprentissage fédéré**. On sort aussi de la classification d'images MNIST, pour s'intéresser à un autre modèle : un réseau de neurone capable de prédire la puissance (vitesse) d'un voilier, en se basant sur l'accélération en x, y et z. \n",
    "\n",
    "Une étape de préparation des données est effectuée pour calculer l'amplitude (la norme au carré) et pour enlever les données inutiles. Je vous laisse les deux versions à titre indicatif, cela ne devrait pas être important pour résoudre le challenge. \n",
    "\n",
    "C'est un modèle de **régression**, c'est-à-dire qu'il ne finit pas sur une sigmoïde, mais sur, rien ! Toutes les valeurs sont possibles en sortie. Même si en pratique, je l'utilise avec une notion de classe, soit 25, soit 50. Si la sortie du modèle est $x$, la classe prédite est :\n",
    "- 25 si $|25 - x|$ < $|50 - x|$\n",
    "- 50 sinon\n",
    "\n",
    "**Le but du challenge est de modifier deux poids, pour que le modèle prédise toutes les classes 25 en 50 et inversement.** \n",
    "\n",
    "Vous avez pour cela quatre exemples de données dans `data/example_force_...`. Bonne chance !"
   ]
  },
  {
   "cell_type": "code",
   "execution_count": null,
   "id": "b800a7f11c461d8d",
   "metadata": {
    "collapsed": false
   },
   "outputs": [],
   "source": [
    "examples = [\"25a\", \"25b\", \"50a\", \"50b\"]\n",
    "values = {example: tf.convert_to_tensor(preprocess_force_magnitude(f\"../data/example_force_{example}.csv\").to_numpy()[:, 0].reshape(1, 50)) for example in examples}\n",
    "predictions = {example: model.predict(values[example])[0][0] for example in examples}\n",
    "predictions"
   ]
  },
  {
   "cell_type": "code",
   "execution_count": null,
   "id": "e655c64775808833",
   "metadata": {
    "collapsed": false
   },
   "outputs": [],
   "source": [
    "weights = model.get_weights()\n",
    "\n",
    "# Structure de notre réseau de neurone, classique : Dense + ReLU\n",
    "model.summary()"
   ]
  },
  {
   "cell_type": "markdown",
   "id": "127469d4cc208509",
   "metadata": {
    "collapsed": false
   },
   "source": [
    "## Récupération du drapeau"
   ]
  },
  {
   "cell_type": "code",
   "execution_count": null,
   "id": "4018d012b936844",
   "metadata": {
    "collapsed": false
   },
   "outputs": [],
   "source": [
    "import requests as rq\n",
    "\n",
    "URL = \"https://du-poison.challenges.404ctf.fr\"\n",
    "rq.get(URL + \"/healthcheck\").json()"
   ]
  },
  {
   "cell_type": "code",
   "execution_count": null,
   "id": "d1619320f3e4a552",
   "metadata": {
    "collapsed": false
   },
   "outputs": [],
   "source": [
    "d = {\n",
    "    \"position_1\": [-4, 10, 25],  # Par exemple : premier poids à modifier à la couche -4 et à la position (10, 25)\n",
    "    \"value_1\": 0.066,  # Nouvelle valeur \n",
    "    \"position_2\": [-1, 0],  # La couche -1 est une couche de biais, il y a donc juste une coordonnée à renseigner\n",
    "    \"value_2\": 0.0017\n",
    "}\n",
    "rq.post(URL + \"/challenges/4\", json=d).json()[\"message\"]"
   ]
  }
 ],
 "metadata": {
  "kernelspec": {
   "display_name": "Python 3",
   "language": "python",
   "name": "python3"
  },
  "language_info": {
   "codemirror_mode": {
    "name": "ipython",
    "version": 2
   },
   "file_extension": ".py",
   "mimetype": "text/x-python",
   "name": "python",
   "nbconvert_exporter": "python",
   "pygments_lexer": "ipython2",
   "version": "2.7.6"
  }
 },
 "nbformat": 4,
 "nbformat_minor": 5
}
