{
  "cells": [
    {
      "cell_type": "code",
      "execution_count": 2,
      "id": "initial_id",
      "metadata": {
        "ExecuteTime": {
          "end_time": "2024-04-25T18:50:42.323321Z",
          "start_time": "2024-04-25T18:50:39.724423Z"
        },
        "collapsed": true,
        "id": "initial_id"
      },
      "outputs": [],
      "source": [
        "from fl.preprocessing import load_mnist, data_to_client\n",
        "from fl.model import NN, train_and_test\n",
        "from fl.utils import plot_train_and_test, weights_to_json\n",
        "from fl.federated_learning import federated"
      ]
    },
    {
      "cell_type": "code",
      "execution_count": 3,
      "id": "J6NgKwkoWrzz",
      "metadata": {
        "colab": {
          "base_uri": "https://localhost:8080/",
          "height": 76
        },
        "id": "J6NgKwkoWrzz",
        "outputId": "ff729360-2124-47dd-923f-3b0d79adb02c"
      },
      "outputs": [
        {
          "data": {
            "text/html": [
              "\n",
              "     <input type=\"file\" id=\"files-90047737-c325-439a-be08-cf36fe4bd8e3\" name=\"files[]\" multiple disabled\n",
              "        style=\"border:none\" />\n",
              "     <output id=\"result-90047737-c325-439a-be08-cf36fe4bd8e3\">\n",
              "      Upload widget is only available when the cell has been executed in the\n",
              "      current browser session. Please rerun this cell to enable.\n",
              "      </output>\n",
              "      <script>// Copyright 2017 Google LLC\n",
              "//\n",
              "// Licensed under the Apache License, Version 2.0 (the \"License\");\n",
              "// you may not use this file except in compliance with the License.\n",
              "// You may obtain a copy of the License at\n",
              "//\n",
              "//      http://www.apache.org/licenses/LICENSE-2.0\n",
              "//\n",
              "// Unless required by applicable law or agreed to in writing, software\n",
              "// distributed under the License is distributed on an \"AS IS\" BASIS,\n",
              "// WITHOUT WARRANTIES OR CONDITIONS OF ANY KIND, either express or implied.\n",
              "// See the License for the specific language governing permissions and\n",
              "// limitations under the License.\n",
              "\n",
              "/**\n",
              " * @fileoverview Helpers for google.colab Python module.\n",
              " */\n",
              "(function(scope) {\n",
              "function span(text, styleAttributes = {}) {\n",
              "  const element = document.createElement('span');\n",
              "  element.textContent = text;\n",
              "  for (const key of Object.keys(styleAttributes)) {\n",
              "    element.style[key] = styleAttributes[key];\n",
              "  }\n",
              "  return element;\n",
              "}\n",
              "\n",
              "// Max number of bytes which will be uploaded at a time.\n",
              "const MAX_PAYLOAD_SIZE = 100 * 1024;\n",
              "\n",
              "function _uploadFiles(inputId, outputId) {\n",
              "  const steps = uploadFilesStep(inputId, outputId);\n",
              "  const outputElement = document.getElementById(outputId);\n",
              "  // Cache steps on the outputElement to make it available for the next call\n",
              "  // to uploadFilesContinue from Python.\n",
              "  outputElement.steps = steps;\n",
              "\n",
              "  return _uploadFilesContinue(outputId);\n",
              "}\n",
              "\n",
              "// This is roughly an async generator (not supported in the browser yet),\n",
              "// where there are multiple asynchronous steps and the Python side is going\n",
              "// to poll for completion of each step.\n",
              "// This uses a Promise to block the python side on completion of each step,\n",
              "// then passes the result of the previous step as the input to the next step.\n",
              "function _uploadFilesContinue(outputId) {\n",
              "  const outputElement = document.getElementById(outputId);\n",
              "  const steps = outputElement.steps;\n",
              "\n",
              "  const next = steps.next(outputElement.lastPromiseValue);\n",
              "  return Promise.resolve(next.value.promise).then((value) => {\n",
              "    // Cache the last promise value to make it available to the next\n",
              "    // step of the generator.\n",
              "    outputElement.lastPromiseValue = value;\n",
              "    return next.value.response;\n",
              "  });\n",
              "}\n",
              "\n",
              "/**\n",
              " * Generator function which is called between each async step of the upload\n",
              " * process.\n",
              " * @param {string} inputId Element ID of the input file picker element.\n",
              " * @param {string} outputId Element ID of the output display.\n",
              " * @return {!Iterable<!Object>} Iterable of next steps.\n",
              " */\n",
              "function* uploadFilesStep(inputId, outputId) {\n",
              "  const inputElement = document.getElementById(inputId);\n",
              "  inputElement.disabled = false;\n",
              "\n",
              "  const outputElement = document.getElementById(outputId);\n",
              "  outputElement.innerHTML = '';\n",
              "\n",
              "  const pickedPromise = new Promise((resolve) => {\n",
              "    inputElement.addEventListener('change', (e) => {\n",
              "      resolve(e.target.files);\n",
              "    });\n",
              "  });\n",
              "\n",
              "  const cancel = document.createElement('button');\n",
              "  inputElement.parentElement.appendChild(cancel);\n",
              "  cancel.textContent = 'Cancel upload';\n",
              "  const cancelPromise = new Promise((resolve) => {\n",
              "    cancel.onclick = () => {\n",
              "      resolve(null);\n",
              "    };\n",
              "  });\n",
              "\n",
              "  // Wait for the user to pick the files.\n",
              "  const files = yield {\n",
              "    promise: Promise.race([pickedPromise, cancelPromise]),\n",
              "    response: {\n",
              "      action: 'starting',\n",
              "    }\n",
              "  };\n",
              "\n",
              "  cancel.remove();\n",
              "\n",
              "  // Disable the input element since further picks are not allowed.\n",
              "  inputElement.disabled = true;\n",
              "\n",
              "  if (!files) {\n",
              "    return {\n",
              "      response: {\n",
              "        action: 'complete',\n",
              "      }\n",
              "    };\n",
              "  }\n",
              "\n",
              "  for (const file of files) {\n",
              "    const li = document.createElement('li');\n",
              "    li.append(span(file.name, {fontWeight: 'bold'}));\n",
              "    li.append(span(\n",
              "        `(${file.type || 'n/a'}) - ${file.size} bytes, ` +\n",
              "        `last modified: ${\n",
              "            file.lastModifiedDate ? file.lastModifiedDate.toLocaleDateString() :\n",
              "                                    'n/a'} - `));\n",
              "    const percent = span('0% done');\n",
              "    li.appendChild(percent);\n",
              "\n",
              "    outputElement.appendChild(li);\n",
              "\n",
              "    const fileDataPromise = new Promise((resolve) => {\n",
              "      const reader = new FileReader();\n",
              "      reader.onload = (e) => {\n",
              "        resolve(e.target.result);\n",
              "      };\n",
              "      reader.readAsArrayBuffer(file);\n",
              "    });\n",
              "    // Wait for the data to be ready.\n",
              "    let fileData = yield {\n",
              "      promise: fileDataPromise,\n",
              "      response: {\n",
              "        action: 'continue',\n",
              "      }\n",
              "    };\n",
              "\n",
              "    // Use a chunked sending to avoid message size limits. See b/62115660.\n",
              "    let position = 0;\n",
              "    do {\n",
              "      const length = Math.min(fileData.byteLength - position, MAX_PAYLOAD_SIZE);\n",
              "      const chunk = new Uint8Array(fileData, position, length);\n",
              "      position += length;\n",
              "\n",
              "      const base64 = btoa(String.fromCharCode.apply(null, chunk));\n",
              "      yield {\n",
              "        response: {\n",
              "          action: 'append',\n",
              "          file: file.name,\n",
              "          data: base64,\n",
              "        },\n",
              "      };\n",
              "\n",
              "      let percentDone = fileData.byteLength === 0 ?\n",
              "          100 :\n",
              "          Math.round((position / fileData.byteLength) * 100);\n",
              "      percent.textContent = `${percentDone}% done`;\n",
              "\n",
              "    } while (position < fileData.byteLength);\n",
              "  }\n",
              "\n",
              "  // All done.\n",
              "  yield {\n",
              "    response: {\n",
              "      action: 'complete',\n",
              "    }\n",
              "  };\n",
              "}\n",
              "\n",
              "scope.google = scope.google || {};\n",
              "scope.google.colab = scope.google.colab || {};\n",
              "scope.google.colab._files = {\n",
              "  _uploadFiles,\n",
              "  _uploadFilesContinue,\n",
              "};\n",
              "})(self);\n",
              "</script> "
            ],
            "text/plain": [
              "<IPython.core.display.HTML object>"
            ]
          },
          "metadata": {},
          "output_type": "display_data"
        },
        {
          "name": "stdout",
          "output_type": "stream",
          "text": [
            "Saving base_fl.weights.h5 to base_fl.weights.h5\n"
          ]
        }
      ],
      "source": [
        "from google.colab import files\n",
        "files.upload()"
      ]
    },
    {
      "cell_type": "code",
      "execution_count": 4,
      "id": "DN1u-UiZXe3s",
      "metadata": {
        "id": "DN1u-UiZXe3s"
      },
      "outputs": [],
      "source": [
        "!mv base_fl.weights.h5 weights/"
      ]
    },
    {
      "cell_type": "code",
      "execution_count": 7,
      "id": "230f2fa10c61d992",
      "metadata": {
        "ExecuteTime": {
          "end_time": "2024-04-25T18:50:42.608084Z",
          "start_time": "2024-04-25T18:50:42.324564Z"
        },
        "colab": {
          "base_uri": "https://localhost:8080/"
        },
        "id": "230f2fa10c61d992",
        "outputId": "0111b407-b9ba-4285-e5ed-7e72b39e3f8c"
      },
      "outputs": [
        {
          "name": "stdout",
          "output_type": "stream",
          "text": [
            "[False False False False False  True False False False False]\n"
          ]
        }
      ],
      "source": [
        "x_train, y_train, x_test, y_test = load_mnist()\n",
        "print(y_train[0])"
      ]
    },
    {
      "cell_type": "code",
      "execution_count": 6,
      "id": "129497a250da23d6",
      "metadata": {
        "ExecuteTime": {
          "end_time": "2024-04-25T18:51:40.543585Z",
          "start_time": "2024-04-25T18:51:40.487972Z"
        },
        "id": "129497a250da23d6"
      },
      "outputs": [],
      "source": [
        "model_base = NN()\n",
        "model_base.load_weights(\"/content/weights/base_fl.weights.h5\")"
      ]
    },
    {
      "cell_type": "code",
      "execution_count": 8,
      "id": "70a60a2d7f84a8ac",
      "metadata": {
        "ExecuteTime": {
          "end_time": "2024-04-25T18:51:48.419167Z",
          "start_time": "2024-04-25T18:51:40.544637Z"
        },
        "colab": {
          "base_uri": "https://localhost:8080/"
        },
        "id": "70a60a2d7f84a8ac",
        "outputId": "b2beed49-24ed-47b0-f2dc-5628eba4e8c9"
      },
      "outputs": [
        {
          "name": "stdout",
          "output_type": "stream",
          "text": [
            "63/63 [==============================] - 0s 6ms/step\n",
            "Accuracy of the model: 0.102\n"
          ]
        }
      ],
      "source": [
        "local_epochs = 10\n",
        "import numpy\n",
        "\n",
        "y_train = numpy.full((10000, 10), True) # On change les valeurs des prédictions attendues pour tromper le modèle\n",
        "\n",
        "local_results = train_and_test(\n",
        "    model_base,\n",
        "    x_train,\n",
        "    y_train,\n",
        "    x_test,\n",
        "    y_test,\n",
        "    epochs=local_epochs\n",
        ")\n"
      ]
    },
    {
      "cell_type": "code",
      "execution_count": 9,
      "id": "y1ZGnjWckCWE",
      "metadata": {
        "colab": {
          "base_uri": "https://localhost:8080/",
          "height": 850
        },
        "id": "y1ZGnjWckCWE",
        "outputId": "de80c69b-f4bf-4606-9e67-eb6d3a64c10a"
      },
      "outputs": [
        {
          "data": {
            "image/png": "[encoded data removed]",
            "text/plain": [
              "<Figure size 1000x1000 with 1 Axes>"
            ]
          },
          "metadata": {},
          "output_type": "display_data"
        }
      ],
      "source": [
        "plot_train_and_test([local_results[\"history\"].history[\"val_accuracy\"]], [\"Entraînement local\"], epochs=local_epochs)\n",
        "# Le modèle est devenu nul ! Super !"
      ]
    },
    {
      "cell_type": "code",
      "execution_count": 10,
      "id": "4a8020f9ab4b96b0",
      "metadata": {
        "ExecuteTime": {
          "end_time": "2024-04-25T18:51:48.503191Z",
          "start_time": "2024-04-25T18:51:48.433032Z"
        },
        "colab": {
          "base_uri": "https://localhost:8080/"
        },
        "id": "4a8020f9ab4b96b0",
        "outputId": "dba6ae9f-a8a7-42fe-dcef-159b68e1144e"
      },
      "outputs": [
        {
          "data": {
            "text/plain": [
              "{'message': 'Statut : en pleine forme !'}"
            ]
          },
          "execution_count": 10,
          "metadata": {},
          "output_type": "execute_result"
        }
      ],
      "source": [
        "import requests as rq\n",
        "\n",
        "URL = \"https://du-poison.challenges.404ctf.fr\"\n",
        "rq.get(URL + \"/healthcheck\").json()"
      ]
    },
    {
      "cell_type": "code",
      "execution_count": 11,
      "id": "a6624e27d09b4458",
      "metadata": {
        "ExecuteTime": {
          "end_time": "2024-04-25T18:51:52.764340Z",
          "start_time": "2024-04-25T18:51:48.504533Z"
        },
        "colab": {
          "base_uri": "https://localhost:8080/"
        },
        "id": "a6624e27d09b4458",
        "outputId": "5c796b87-a06f-440d-c336-2ab9c925f907"
      },
      "outputs": [
        {
          "data": {
            "text/plain": [
              "{'message': 'Bravo ! Voici le drapeau : 404CTF{0h___dU_P01sON}'}"
            ]
          },
          "execution_count": 11,
          "metadata": {},
          "output_type": "execute_result"
        }
      ],
      "source": [
        "d = weights_to_json(local_results[\"weights\"])\n",
        "rq.post(URL + \"/challenges/1\", json=d).json()"
      ]
    }
  ],
  "metadata": {
    "colab": {
      "provenance": []
    },
    "kernelspec": {
      "display_name": "Python 3",
      "language": "python",
      "name": "python3"
    },
    "language_info": {
      "codemirror_mode": {
        "name": "ipython",
        "version": 2
      },
      "file_extension": ".py",
      "mimetype": "text/x-python",
      "name": "python",
      "nbconvert_exporter": "python",
      "pygments_lexer": "ipython2",
      "version": "2.7.6"
    }
  },
  "nbformat": 4,
  "nbformat_minor": 5
}
